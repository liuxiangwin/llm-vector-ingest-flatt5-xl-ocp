{
 "cells": [
  {
   "cell_type": "markdown",
   "id": "165a3407",
   "metadata": {},
   "source": [
    "## Querying a Milvus index\n",
    "\n",
    "Simple example on how to query content from a Milvus VectorStore.\n",
    "\n",
    "Requirements:\n",
    "- A Milvus instance, either standalone or cluster.\n",
    "- Connection credentials to Milvus must be available as environment variables: MILVUS_USERNAME and MILVUS_PASSWORD"
   ]
  },
  {
   "cell_type": "markdown",
   "id": "48ac3132-6929-4477-9585-31761d7d9848",
   "metadata": {},
   "source": [
    "### Needed packages and imports"
   ]
  },
  {
   "cell_type": "code",
   "execution_count": 8,
   "id": "1ed97389-9c5b-46a8-bedf-f28bf7038a07",
   "metadata": {},
   "outputs": [
    {
     "name": "stderr",
     "output_type": "stream",
     "text": [
      "huggingface/tokenizers: The current process just got forked, after parallelism has already been used. Disabling parallelism to avoid deadlocks...\n",
      "To disable this warning, you can either:\n",
      "\t- Avoid using `tokenizers` before the fork if possible\n",
      "\t- Explicitly set the environment variable TOKENIZERS_PARALLELISM=(true | false)\n"
     ]
    },
    {
     "name": "stdout",
     "output_type": "stream",
     "text": [
      "\n",
      "\u001b[1m[\u001b[0m\u001b[34;49mnotice\u001b[0m\u001b[1;39;49m]\u001b[0m\u001b[39;49m A new release of pip is available: \u001b[0m\u001b[31;49m24.2\u001b[0m\u001b[39;49m -> \u001b[0m\u001b[32;49m25.1\u001b[0m\n",
      "\u001b[1m[\u001b[0m\u001b[34;49mnotice\u001b[0m\u001b[1;39;49m]\u001b[0m\u001b[39;49m To update, run: \u001b[0m\u001b[32;49mpip install --upgrade pip\u001b[0m\n"
     ]
    }
   ],
   "source": [
    "!pip install -q einops==0.7.0 langchain==0.1.9 pymilvus==2.3.6 sentence-transformers==2.4.0"
   ]
  },
  {
   "cell_type": "code",
   "execution_count": 9,
   "id": "83e11d23-c0ad-4875-b67f-149fc8b14725",
   "metadata": {
    "tags": []
   },
   "outputs": [],
   "source": [
    "import os\n",
    "from langchain.embeddings.huggingface import HuggingFaceEmbeddings\n",
    "from langchain_community.vectorstores import Milvus"
   ]
  },
  {
   "cell_type": "markdown",
   "id": "f0b8ecae",
   "metadata": {
    "tags": []
   },
   "source": [
    "### Base parameters, the Milvus connection info"
   ]
  },
  {
   "cell_type": "code",
   "execution_count": 10,
   "id": "9376e567",
   "metadata": {
    "tags": []
   },
   "outputs": [],
   "source": [
    "MILVUS_HOST = \"vectordb-milvus.milvus.svc.cluster.local\"\n",
    "MILVUS_PORT = 19530\n",
    "MILVUS_USERNAME = \"root\"\n",
    "MILVUS_PASSWORD = \"Milvus\"\n",
    "MILVUS_COLLECTION = \"collection_nomicai_embeddings\""
   ]
  },
  {
   "cell_type": "markdown",
   "id": "56d51868",
   "metadata": {},
   "source": [
    "### Initialize the connection"
   ]
  },
  {
   "cell_type": "code",
   "execution_count": 11,
   "id": "bbb6a3e3-5ccd-441e-b80d-427555d9e9f6",
   "metadata": {
    "tags": []
   },
   "outputs": [],
   "source": [
    "# If you don't want to use a GPU, you can remove the 'device': 'cuda' argument\n",
    "model_kwargs = {'device': 'cuda'}\n",
    "embeddings = HuggingFaceEmbeddings(\n",
    "    model_kwargs=model_kwargs,\n",
    "    show_progress=True\n",
    ")\n",
    "\n",
    "store = Milvus(\n",
    "    embedding_function=embeddings,\n",
    "    connection_args={\"host\": MILVUS_HOST, \"port\": MILVUS_PORT, \"user\": MILVUS_USERNAME, \"password\": MILVUS_PASSWORD},\n",
    "    collection_name=MILVUS_COLLECTION,\n",
    "    metadata_field=\"metadata\",\n",
    "    text_field=\"page_content\",\n",
    "    drop_old=False\n",
    "    )"
   ]
  },
  {
   "cell_type": "markdown",
   "id": "9856851c",
   "metadata": {},
   "source": [
    "### Make a query to the index to verify sources"
   ]
  },
  {
   "cell_type": "code",
   "execution_count": 12,
   "id": "9621e231-3541-40bc-85ef-8aa3b2ba2331",
   "metadata": {
    "tags": []
   },
   "outputs": [
    {
     "data": {
      "application/vnd.jupyter.widget-view+json": {
       "model_id": "2a2e6655716c4cd8bfd81421404c4920",
       "version_major": 2,
       "version_minor": 0
      },
      "text/plain": [
       "Batches:   0%|          | 0/1 [00:00<?, ?it/s]"
      ]
     },
     "metadata": {},
     "output_type": "display_data"
    },
    {
     "name": "stdout",
     "output_type": "stream",
     "text": [
      "https://access.redhat.com/documentation/en-us/red_hat_openshift_ai_self-managed/2.13/html-single/managing_resources/index\n",
      "https://access.redhat.com/documentation/en-us/red_hat_openshift_ai_self-managed/2.13/html-single/managing_resources/index\n",
      "https://access.redhat.com/documentation/en-us/red_hat_openshift_ai_self-managed/2.13/html-single/managing_resources/index\n",
      "https://access.redhat.com/documentation/en-us/red_hat_openshift_ai_self-managed/2.13/html-single/openshift_ai_tutorial_-_fraud_detection_example/index\n"
     ]
    }
   ],
   "source": [
    "query=\"How can I create a Data Science Project?\"\n",
    "results = store.similarity_search_with_score(query, k=4, return_metadata=True)\n",
    "for result in results:\n",
    "    print(result[0].metadata['source'])"
   ]
  },
  {
   "cell_type": "markdown",
   "id": "f1005e2c",
   "metadata": {},
   "source": [
    "### Work with a retriever"
   ]
  },
  {
   "cell_type": "code",
   "execution_count": 13,
   "id": "f4ce0caa-a514-4a4d-985b-7e5ac89356ea",
   "metadata": {
    "tags": []
   },
   "outputs": [],
   "source": [
    "retriever = store.as_retriever(search_type=\"similarity\", search_kwargs={\"k\": 4})"
   ]
  },
  {
   "cell_type": "code",
   "execution_count": 14,
   "id": "5dede8e3-f185-4aae-a5f1-6c67876f0f65",
   "metadata": {
    "tags": []
   },
   "outputs": [
    {
     "data": {
      "application/vnd.jupyter.widget-view+json": {
       "model_id": "874d3591e3b946559b4d10a805678fbd",
       "version_major": 2,
       "version_minor": 0
      },
      "text/plain": [
       "Batches:   0%|          | 0/1 [00:00<?, ?it/s]"
      ]
     },
     "metadata": {},
     "output_type": "display_data"
    },
    {
     "data": {
      "text/plain": [
       "[Document(page_content='\\\\\"kueue-webhook-service\\\\\"\"\\n}]},\\n\"code\"\\n:500}\\n{\\n\"level\"\\n:\\n\"info\"\\n,\\n\"ts\"\\n:\\n\"2024-06-24T14:36:24.255137871Z\"\\n,\\n\"logger\"\\n:\\n\"controller-\\nruntime.webhook\"\\n,\\n\"caller\"\\n:\\n\"webhook/server.go:242\"\\n,\\n\"msg\"\\n:\\n\"Serving webhook\\n \\nserver\"\\n,\\n\"host\"\\n:\\n\"\"\\n,\\n\"port\"\\n:9443}\\nCHAPTER 3. MANAGING CLUSTER RESOURCES\\n25', metadata={'source': 'https://access.redhat.com/documentation/en-us/red_hat_openshift_ai_self-managed/2.13/html-single/managing_resources/index', 'page': 28}),\n",
       " Document(page_content='CHAPTER 3. MANAGING CLUSTER RESOURCES\\n3.1. CONFIGURING THE DEFAULT PVC SIZE FOR YOUR CLUSTER\\nTo configure how resources are claimed within your OpenShift AI cluster, you can change the default\\nsize of the cluster’s persistent volume claim (PVC) ensuring that the storage requested matches your\\ncommon storage workflow. PVCs are requests for resources in your cluster and also act as claim checks\\nto the resource.\\nPrerequisites\\nYou have logged in to Red Hat OpenShift AI.\\nNOTE\\nChanging the PVC setting restarts the Jupyter pod and makes Jupyter unavailable for up\\nto 30 seconds. As a workaround, it is recommended that you perform this action outside\\nof your organization’s typical working day.\\nProcedure\\n1\\n. \\nFrom the OpenShift AI dashboard, click \\nSettings\\n \\n→\\n \\nCluster settings\\n.\\n2\\n. \\nUnder \\nPVC size\\n, enter a new size in gibibytes. The minimum size is 1 GiB, and the maximum size\\nis 16384 GiB.\\n3\\n. \\nClick \\nSave changes\\n.\\nVerification\\nNew PVCs are created with the default storage size that you configured.', metadata={'source': 'https://access.redhat.com/documentation/en-us/red_hat_openshift_ai_self-managed/2.13/html-single/managing_resources/index', 'page': 22}),\n",
       " Document(page_content=':\\n\"Status\"\\n,\\n\"apiVersion\"\\n:\\n\"v1\"\\n,\\n\"metadata\"\\n:\\n{},\\n\"status\"\\n:\\n\"Failure\"\\n,\\n\"message\"\\n:\\n\"rayclusters.ray.io is forbidden: User\\n \\n\\\\\"system:serviceaccount:regularuser-project:regularuser-workbench\\\\\" cannot list resource\\n \\n\\\\\"rayclusters\\\\\" in API group \\\\\"ray.io\\\\\" in the namespace \\\\\"regularuser-\\nproject\\\\\"\"\\n,\\n\"reason\"\\n:\\n\"Forbidden\"\\n,\\n\"details\"\\n:{\\n\"group\"\\n:\\n\"ray.io\"\\n,\\n\"kind\"\\n:\\n\"rayclusters\"\\n},\\n\"code\"\\n:403}\\nCHAPTER 3. MANAGING CLUSTER RESOURCES\\n27', metadata={'source': 'https://access.redhat.com/documentation/en-us/red_hat_openshift_ai_self-managed/2.13/html-single/managing_resources/index', 'page': 30}),\n",
       " Document(page_content='28\\n31\\n33\\n35\\n35\\n35\\n37\\n38\\n39\\n40\\n43\\n44\\n49\\nTable of Contents\\n1', metadata={'source': 'https://access.redhat.com/documentation/en-us/red_hat_openshift_ai_self-managed/2.13/html-single/openshift_ai_tutorial_-_fraud_detection_example/index', 'page': 4})]"
      ]
     },
     "execution_count": 14,
     "metadata": {},
     "output_type": "execute_result"
    }
   ],
   "source": [
    "docs = retriever.get_relevant_documents(query)\n",
    "docs"
   ]
  }
 ],
 "metadata": {
  "kernelspec": {
   "display_name": "Python 3.11",
   "language": "python",
   "name": "python3"
  },
  "language_info": {
   "codemirror_mode": {
    "name": "ipython",
    "version": 3
   },
   "file_extension": ".py",
   "mimetype": "text/x-python",
   "name": "python",
   "nbconvert_exporter": "python",
   "pygments_lexer": "ipython3",
   "version": "3.11.9"
  }
 },
 "nbformat": 4,
 "nbformat_minor": 5
}
